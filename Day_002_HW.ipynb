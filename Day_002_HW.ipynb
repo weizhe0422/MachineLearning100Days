{
 "cells": [
  {
   "cell_type": "code",
   "execution_count": null,
   "metadata": {},
   "outputs": [],
   "source": [
    "我認為機器學習可以發光發熱的地方可以應用在製造業，其中可以將製造商品過程中的機台參數與環境因素記錄下來，並且與每一批商品的良率進行比對，\n",
    "找出影響良率的關鍵因子後進行調整，找出生產過程中最佳的參數組合與降低造成低良率的因素。如此就可以讓工廠用最少成本且最有效率的方式生產出最佳的商品。"
   ]
  }
 ],
 "metadata": {
  "kernelspec": {
   "display_name": "Python 3",
   "language": "python",
   "name": "python3"
  },
  "language_info": {
   "codemirror_mode": {
    "name": "ipython",
    "version": 3
   },
   "file_extension": ".py",
   "mimetype": "text/x-python",
   "name": "python",
   "nbconvert_exporter": "python",
   "pygments_lexer": "ipython3",
   "version": "3.7.4"
  }
 },
 "nbformat": 4,
 "nbformat_minor": 2
}
