{
 "cells": [
  {
   "cell_type": "code",
   "execution_count": 1,
   "metadata": {},
   "outputs": [
    {
     "ename": "SyntaxError",
     "evalue": "invalid syntax (<ipython-input-1-278afaa62af9>, line 1)",
     "output_type": "error",
     "traceback": [
      "\u001b[1;36m  File \u001b[1;32m\"<ipython-input-1-278afaa62af9>\"\u001b[1;36m, line \u001b[1;32m1\u001b[0m\n\u001b[1;33m    文章出處: https://ai.googleblog.com/2020/02/autoflip-open-source-framework-for.html\u001b[0m\n\u001b[1;37m               ^\u001b[0m\n\u001b[1;31mSyntaxError\u001b[0m\u001b[1;31m:\u001b[0m invalid syntax\n"
     ]
    }
   ],
   "source": [
    "文章出處: https://ai.googleblog.com/2020/02/autoflip-open-source-framework-for.html"
   ]
  },
  {
   "cell_type": "code",
   "execution_count": 2,
   "metadata": {},
   "outputs": [
    {
     "ename": "SyntaxError",
     "evalue": "invalid character in identifier (<ipython-input-2-518e1a3a4782>, line 1)",
     "output_type": "error",
     "traceback": [
      "\u001b[1;36m  File \u001b[1;32m\"<ipython-input-2-518e1a3a4782>\"\u001b[1;36m, line \u001b[1;32m1\u001b[0m\n\u001b[1;33m    專案的目標？ (要解決什麼問題）:當使用者透過手機進行攝影或拍照時，因為不同設備上適合的長寬比不同，故將影像或照片裁切成適合的尺寸是重要的；\u001b[0m\n\u001b[1;37m         ^\u001b[0m\n\u001b[1;31mSyntaxError\u001b[0m\u001b[1;31m:\u001b[0m invalid character in identifier\n"
     ]
    }
   ],
   "source": [
    "專案的目標？ (要解決什麼問題）:當使用者透過手機進行攝影或拍照時，因為不同設備上適合的長寬比不同，故將影像或照片裁切成適合的尺寸是重要的；\n",
    "                            但是構圖方式的不同以及動態影像的產生，導致如果只是靜態裁切，其結果絕對是不理想的，但是如果透過人為的動態裁切，\n",
    "                            其十分耗時，且容易出錯。"
   ]
  },
  {
   "cell_type": "code",
   "execution_count": 3,
   "metadata": {},
   "outputs": [
    {
     "ename": "SyntaxError",
     "evalue": "invalid character in identifier (<ipython-input-3-fab9e5e69f31>, line 1)",
     "output_type": "error",
     "traceback": [
      "\u001b[1;36m  File \u001b[1;32m\"<ipython-input-3-fab9e5e69f31>\"\u001b[1;36m, line \u001b[1;32m1\u001b[0m\n\u001b[1;33m    使用的技術是？ (只需知道名稱即可，例如：使用 CNN 卷積神經網路做影像分類): 透過MediaPip framwork: https://github.com/google/mediapipe/\u001b[0m\n\u001b[1;37m          ^\u001b[0m\n\u001b[1;31mSyntaxError\u001b[0m\u001b[1;31m:\u001b[0m invalid character in identifier\n"
     ]
    }
   ],
   "source": [
    "使用的技術是？ (只需知道名稱即可，例如：使用 CNN 卷積神經網路做影像分類): 透過MediaPip framwork: https://github.com/google/mediapipe/"
   ]
  },
  {
   "cell_type": "code",
   "execution_count": 4,
   "metadata": {},
   "outputs": [
    {
     "ename": "SyntaxError",
     "evalue": "invalid character in identifier (<ipython-input-4-485b746916dd>, line 1)",
     "output_type": "error",
     "traceback": [
      "\u001b[1;36m  File \u001b[1;32m\"<ipython-input-4-485b746916dd>\"\u001b[1;36m, line \u001b[1;32m1\u001b[0m\n\u001b[1;33m    資料來源？目前找不到相關資訊\u001b[0m\n\u001b[1;37m                 ^\u001b[0m\n\u001b[1;31mSyntaxError\u001b[0m\u001b[1;31m:\u001b[0m invalid character in identifier\n"
     ]
    }
   ],
   "source": [
    "資料來源？目前找不到相關資訊"
   ]
  },
  {
   "cell_type": "code",
   "execution_count": null,
   "metadata": {},
   "outputs": [],
   "source": []
  }
 ],
 "metadata": {
  "kernelspec": {
   "display_name": "Python 3",
   "language": "python",
   "name": "python3"
  },
  "language_info": {
   "codemirror_mode": {
    "name": "ipython",
    "version": 3
   },
   "file_extension": ".py",
   "mimetype": "text/x-python",
   "name": "python",
   "nbconvert_exporter": "python",
   "pygments_lexer": "ipython3",
   "version": "3.7.4"
  }
 },
 "nbformat": 4,
 "nbformat_minor": 2
}
