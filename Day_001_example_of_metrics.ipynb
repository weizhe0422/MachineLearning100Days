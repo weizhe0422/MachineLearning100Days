{
 "cells": [
  {
   "cell_type": "code",
   "execution_count": 3,
   "metadata": {},
   "outputs": [],
   "source": [
    "import numpy as np\n",
    "import matplotlib.pyplot as plt"
   ]
  },
  {
   "cell_type": "code",
   "execution_count": 4,
   "metadata": {},
   "outputs": [],
   "source": [
    "def mean_absolute_error(y, yp):\n",
    "    \"\"\"\n",
    "    計算 MAE\n",
    "    Args:\n",
    "        - y: 實際值\n",
    "        - yp: 預測值\n",
    "    Return:\n",
    "        - mae: MAE\n",
    "    \"\"\"\n",
    "    mae = MAE = sum(abs(y - yp)) / len(y)\n",
    "    return mae\n",
    "# 定義 mean_squared_error 這個函數, 計算並傳回 MSE\n",
    "def mean_squared_error(y, yp):\n",
    "    mse = sum((yp-y)**2) / len(y)\n",
    "    return mse"
   ]
  },
  {
   "cell_type": "code",
   "execution_count": 9,
   "metadata": {},
   "outputs": [
    {
     "data": {
      "image/png": "[encoded data removed]",
      "text/plain": [
       "<Figure size 432x288 with 1 Axes>"
      ]
     },
     "metadata": {
      "needs_background": "light"
     },
     "output_type": "display_data"
    }
   ],
   "source": [
    "w=3\n",
    "b=0.5\n",
    "x_lin = np.linspace(0,100,101)\n",
    "y=(x_lin + np.random.randn(101)*5)*w+b\n",
    "plt.plot(x_lin,y,'b.',label='data points')\n",
    "plt.title(\"Assume we have data points\")\n",
    "plt.legend(loc=2)\n",
    "plt.show()"
   ]
  },
  {
   "cell_type": "code",
   "execution_count": 10,
   "metadata": {},
   "outputs": [
    {
     "data": {
      "image/png": "[encoded data removed]",
      "text/plain": [
       "<Figure size 432x288 with 1 Axes>"
      ]
     },
     "metadata": {
      "needs_background": "light"
     },
     "output_type": "display_data"
    }
   ],
   "source": [
    "y_hat=x_lin * w +b\n",
    "plt.plot(x_lin,y,'b.',label='data')\n",
    "plt.plot(x_lin,y_hat,'r-',label='prediction')\n",
    "plt.title('Assume we have data points (And the prediction)')\n",
    "plt.legend(loc=2)\n",
    "plt.show()"
   ]
  },
  {
   "cell_type": "code",
   "execution_count": 11,
   "metadata": {},
   "outputs": [
    {
     "name": "stdout",
     "output_type": "stream",
     "text": [
      "The Mean squared error is 12.248\n",
      "The Mean absolute error is 231.833\n"
     ]
    }
   ],
   "source": [
    "MSE = mean_absolute_error(y,y_hat)\n",
    "MAE = mean_squared_error(y,y_hat)\n",
    "print(\"The Mean squared error is %.3f\" %(MSE))\n",
    "print(\"The Mean absolute error is %.3f\" %(MAE))"
   ]
  },
  {
   "cell_type": "code",
   "execution_count": 12,
   "metadata": {},
   "outputs": [
    {
     "ename": "SyntaxError",
     "evalue": "invalid syntax (<ipython-input-12-d5c2548aced6>, line 1)",
     "output_type": "error",
     "traceback": [
      "\u001b[1;36m  File \u001b[1;32m\"<ipython-input-12-d5c2548aced6>\"\u001b[1;36m, line \u001b[1;32m1\u001b[0m\n\u001b[1;33m    作業2: 選擇的是https://www.kaggle.com/noahgift/social-power-nba\u001b[0m\n\u001b[1;37m                  ^\u001b[0m\n\u001b[1;31mSyntaxError\u001b[0m\u001b[1;31m:\u001b[0m invalid syntax\n"
     ]
    }
   ],
   "source": [
    "作業2: 選擇的是https://www.kaggle.com/noahgift/social-power-nba"
   ]
  },
  {
   "cell_type": "code",
   "execution_count": 13,
   "metadata": {},
   "outputs": [
    {
     "ename": "SyntaxError",
     "evalue": "invalid syntax (<ipython-input-13-5ca7cfbe4ff1>, line 1)",
     "output_type": "error",
     "traceback": [
      "\u001b[1;36m  File \u001b[1;32m\"<ipython-input-13-5ca7cfbe4ff1>\"\u001b[1;36m, line \u001b[1;32m1\u001b[0m\n\u001b[1;33m    1. 你選的這組資料為何重要: 透過NBA球員的場上表現，搭配上Twitter與Wiki瀏覽量來評估NAB球員表現與社群影響力的之間的關係\u001b[0m\n\u001b[1;37m                 ^\u001b[0m\n\u001b[1;31mSyntaxError\u001b[0m\u001b[1;31m:\u001b[0m invalid syntax\n"
     ]
    }
   ],
   "source": [
    "1. 你選的這組資料為何重要: 透過NBA球員的場上表現，搭配上Twitter與Wiki瀏覽量來評估NAB球員表現與社群影響力的之間的關係\n",
    "2. 資料從何而來 (tips: 譬如提供者是誰、以什麼方式蒐集): 資料來源包含來自媒體: ESPN、Basketball-Reference，而社群資料則是收集來自Twitter與Wiki瀏覽量\n",
    "3. 蒐集而來的資料型態為何: 資料檔案為csv，其中包含球員名稱:string、場上位置:string、所屬球隊:string、薪水:integer、Twitter追蹤數:integer、轉Twitter數量:integer\n",
    "4. 這組資料想解決的問題如何評估: 因為目標是分析出每個球員場上表現與社群影響力，故來源資料分成球員基本資料、場上表現、社群資訊等dataset，故須將這些資料透過球員姓名Join起來，並且找出與場上表現相關的關鍵因子欄位。                "
   ]
  },
  {
   "cell_type": "code",
   "execution_count": 15,
   "metadata": {},
   "outputs": [
    {
     "ename": "SyntaxError",
     "evalue": "invalid character in identifier (<ipython-input-15-bc25206ca1b2>, line 1)",
     "output_type": "error",
     "traceback": [
      "\u001b[1;36m  File \u001b[1;32m\"<ipython-input-15-bc25206ca1b2>\"\u001b[1;36m, line \u001b[1;32m1\u001b[0m\n\u001b[1;33m    作業3:想像你經營一個自由載客車隊，你希望能透過數據分析以提升業績，請你思考並描述你如何規劃整體的分析/解決方案：\u001b[0m\n\u001b[1;37m                                                      ^\u001b[0m\n\u001b[1;31mSyntaxError\u001b[0m\u001b[1;31m:\u001b[0m invalid character in identifier\n"
     ]
    }
   ],
   "source": [
    "作業3:想像你經營一個自由載客車隊，你希望能透過數據分析以提升業績，請你思考並描述你如何規劃整體的分析/解決方案："
   ]
  },
  {
   "cell_type": "code",
   "execution_count": 16,
   "metadata": {},
   "outputs": [
    {
     "ename": "SyntaxError",
     "evalue": "invalid syntax (<ipython-input-16-55bbd1f634bb>, line 1)",
     "output_type": "error",
     "traceback": [
      "\u001b[1;36m  File \u001b[1;32m\"<ipython-input-16-55bbd1f634bb>\"\u001b[1;36m, line \u001b[1;32m1\u001b[0m\n\u001b[1;33m    1. 核心問題為何 (tips：如何定義 「提升業績 & 你的假設」): 提升業績代表單位時間的載客量需要上升，故假設顧客選擇搭乘的因子是知名度、清潔度、司機外文能力、顧客等待時間，故需要針對這些因子收集相關資訊\u001b[0m\n\u001b[1;37m            ^\u001b[0m\n\u001b[1;31mSyntaxError\u001b[0m\u001b[1;31m:\u001b[0m invalid syntax\n"
     ]
    }
   ],
   "source": [
    "1. 核心問題為何 (tips：如何定義 「提升業績 & 你的假設」): 提升業績代表單位時間的載客量需要上升，故假設顧客選擇搭乘的因子是知名度、清潔度、司機外文能力、顧客等待時間，故需要針對這些因子收集相關資訊\n",
    "2. 資料從何而來 (tips：哪些資料可能會對你想問的問題產生影響 & 資料如何蒐集): 透過顧客透過APP或電話叫車時的回饋意見填寫，進行相關資訊因子的收集\n",
    "3. 蒐集而來的資料型態為何: 其資料型態JSON格式，\n",
    "4. 你要回答的問題，其如何評估: y為單位時間載客量，X各欄位資訊因子，找出資訊因子與單位時間載客量的模型後進行預設    "
   ]
  },
  {
   "cell_type": "code",
   "execution_count": null,
   "metadata": {},
   "outputs": [],
   "source": []
  }
 ],
 "metadata": {
  "kernelspec": {
   "display_name": "Python 3",
   "language": "python",
   "name": "python3"
  },
  "language_info": {
   "codemirror_mode": {
    "name": "ipython",
    "version": 3
   },
   "file_extension": ".py",
   "mimetype": "text/x-python",
   "name": "python",
   "nbconvert_exporter": "python",
   "pygments_lexer": "ipython3",
   "version": "3.7.4"
  }
 },
 "nbformat": 4,
 "nbformat_minor": 2
}
